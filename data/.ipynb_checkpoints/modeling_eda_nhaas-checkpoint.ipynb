{
 "cells": [
  {
   "cell_type": "code",
   "execution_count": 1,
   "metadata": {},
   "outputs": [
    {
     "data": {
      "text/plain": [
       "'3.6.3 |Anaconda custom (64-bit)| (default, Oct  6 2017, 12:04:38) \\n[GCC 4.2.1 Compatible Clang 4.0.1 (tags/RELEASE_401/final)]'"
      ]
     },
     "execution_count": 1,
     "metadata": {},
     "output_type": "execute_result"
    }
   ],
   "source": [
    "import pandas as pd\n",
    "import numpy as np\n",
    "import random \n",
    "\n",
    "import statsmodels.formula.api as sm\n",
    "import sys\n",
    "from matplotlib import pyplot as plt\n",
    "%matplotlib inline \n",
    "\n",
    "sys.version"
   ]
  },
  {
   "cell_type": "code",
   "execution_count": 81,
   "metadata": {},
   "outputs": [
    {
     "name": "stdout",
     "output_type": "stream",
     "text": [
      "Name: statsmodels\n",
      "Version: 0.8.0\n",
      "Summary: Statistical computations and models for Python\n",
      "Home-page: http://www.statsmodels.org/\n",
      "Author: Skipper Seabold, Josef Perktold\n",
      "Author-email: pystatsmodels@googlegroups.com\n",
      "License: BSD License\n",
      "Location: /anaconda3/lib/python3.6/site-packages\n",
      "Requires: \n",
      "\u001b[33mYou are using pip version 9.0.1, however version 9.0.3 is available.\n",
      "You should consider upgrading via the 'pip install --upgrade pip' command.\u001b[0m\n"
     ]
    }
   ],
   "source": [
    "!pip show statsmodels"
   ]
  },
  {
   "cell_type": "code",
   "execution_count": 89,
   "metadata": {},
   "outputs": [
    {
     "ename": "FileNotFoundError",
     "evalue": "File b'/data/raw_data.csv' does not exist",
     "output_type": "error",
     "traceback": [
      "\u001b[0;31m---------------------------------------------------------------------------\u001b[0m",
      "\u001b[0;31mFileNotFoundError\u001b[0m                         Traceback (most recent call last)",
      "\u001b[0;32m<ipython-input-89-ce1658380af7>\u001b[0m in \u001b[0;36m<module>\u001b[0;34m()\u001b[0m\n\u001b[1;32m      1\u001b[0m \u001b[0;31m### read in raw data\u001b[0m\u001b[0;34m\u001b[0m\u001b[0;34m\u001b[0m\u001b[0m\n\u001b[1;32m      2\u001b[0m \u001b[0;34m\u001b[0m\u001b[0m\n\u001b[0;32m----> 3\u001b[0;31m \u001b[0md\u001b[0m \u001b[0;34m=\u001b[0m \u001b[0mpd\u001b[0m\u001b[0;34m.\u001b[0m\u001b[0mread_csv\u001b[0m\u001b[0;34m(\u001b[0m\u001b[0;34m'/data/raw_data.csv'\u001b[0m\u001b[0;34m)\u001b[0m\u001b[0;34m\u001b[0m\u001b[0m\n\u001b[0m\u001b[1;32m      4\u001b[0m \u001b[0md\u001b[0m \u001b[0;34m=\u001b[0m \u001b[0md\u001b[0m\u001b[0;34m.\u001b[0m\u001b[0mdropna\u001b[0m\u001b[0;34m(\u001b[0m\u001b[0mhow\u001b[0m\u001b[0;34m=\u001b[0m\u001b[0;34m'any'\u001b[0m\u001b[0;34m)\u001b[0m\u001b[0;34m\u001b[0m\u001b[0m\n\u001b[1;32m      5\u001b[0m \u001b[0md\u001b[0m\u001b[0;34m.\u001b[0m\u001b[0mhead\u001b[0m\u001b[0;34m(\u001b[0m\u001b[0;34m)\u001b[0m\u001b[0;34m\u001b[0m\u001b[0m\n",
      "\u001b[0;32m/anaconda3/lib/python3.6/site-packages/pandas/io/parsers.py\u001b[0m in \u001b[0;36mparser_f\u001b[0;34m(filepath_or_buffer, sep, delimiter, header, names, index_col, usecols, squeeze, prefix, mangle_dupe_cols, dtype, engine, converters, true_values, false_values, skipinitialspace, skiprows, nrows, na_values, keep_default_na, na_filter, verbose, skip_blank_lines, parse_dates, infer_datetime_format, keep_date_col, date_parser, dayfirst, iterator, chunksize, compression, thousands, decimal, lineterminator, quotechar, quoting, escapechar, comment, encoding, dialect, tupleize_cols, error_bad_lines, warn_bad_lines, skipfooter, skip_footer, doublequote, delim_whitespace, as_recarray, compact_ints, use_unsigned, low_memory, buffer_lines, memory_map, float_precision)\u001b[0m\n\u001b[1;32m    653\u001b[0m                     skip_blank_lines=skip_blank_lines)\n\u001b[1;32m    654\u001b[0m \u001b[0;34m\u001b[0m\u001b[0m\n\u001b[0;32m--> 655\u001b[0;31m         \u001b[0;32mreturn\u001b[0m \u001b[0m_read\u001b[0m\u001b[0;34m(\u001b[0m\u001b[0mfilepath_or_buffer\u001b[0m\u001b[0;34m,\u001b[0m \u001b[0mkwds\u001b[0m\u001b[0;34m)\u001b[0m\u001b[0;34m\u001b[0m\u001b[0m\n\u001b[0m\u001b[1;32m    656\u001b[0m \u001b[0;34m\u001b[0m\u001b[0m\n\u001b[1;32m    657\u001b[0m     \u001b[0mparser_f\u001b[0m\u001b[0;34m.\u001b[0m\u001b[0m__name__\u001b[0m \u001b[0;34m=\u001b[0m \u001b[0mname\u001b[0m\u001b[0;34m\u001b[0m\u001b[0m\n",
      "\u001b[0;32m/anaconda3/lib/python3.6/site-packages/pandas/io/parsers.py\u001b[0m in \u001b[0;36m_read\u001b[0;34m(filepath_or_buffer, kwds)\u001b[0m\n\u001b[1;32m    403\u001b[0m \u001b[0;34m\u001b[0m\u001b[0m\n\u001b[1;32m    404\u001b[0m     \u001b[0;31m# Create the parser.\u001b[0m\u001b[0;34m\u001b[0m\u001b[0;34m\u001b[0m\u001b[0m\n\u001b[0;32m--> 405\u001b[0;31m     \u001b[0mparser\u001b[0m \u001b[0;34m=\u001b[0m \u001b[0mTextFileReader\u001b[0m\u001b[0;34m(\u001b[0m\u001b[0mfilepath_or_buffer\u001b[0m\u001b[0;34m,\u001b[0m \u001b[0;34m**\u001b[0m\u001b[0mkwds\u001b[0m\u001b[0;34m)\u001b[0m\u001b[0;34m\u001b[0m\u001b[0m\n\u001b[0m\u001b[1;32m    406\u001b[0m \u001b[0;34m\u001b[0m\u001b[0m\n\u001b[1;32m    407\u001b[0m     \u001b[0;32mif\u001b[0m \u001b[0mchunksize\u001b[0m \u001b[0;32mor\u001b[0m \u001b[0miterator\u001b[0m\u001b[0;34m:\u001b[0m\u001b[0;34m\u001b[0m\u001b[0m\n",
      "\u001b[0;32m/anaconda3/lib/python3.6/site-packages/pandas/io/parsers.py\u001b[0m in \u001b[0;36m__init__\u001b[0;34m(self, f, engine, **kwds)\u001b[0m\n\u001b[1;32m    762\u001b[0m             \u001b[0mself\u001b[0m\u001b[0;34m.\u001b[0m\u001b[0moptions\u001b[0m\u001b[0;34m[\u001b[0m\u001b[0;34m'has_index_names'\u001b[0m\u001b[0;34m]\u001b[0m \u001b[0;34m=\u001b[0m \u001b[0mkwds\u001b[0m\u001b[0;34m[\u001b[0m\u001b[0;34m'has_index_names'\u001b[0m\u001b[0;34m]\u001b[0m\u001b[0;34m\u001b[0m\u001b[0m\n\u001b[1;32m    763\u001b[0m \u001b[0;34m\u001b[0m\u001b[0m\n\u001b[0;32m--> 764\u001b[0;31m         \u001b[0mself\u001b[0m\u001b[0;34m.\u001b[0m\u001b[0m_make_engine\u001b[0m\u001b[0;34m(\u001b[0m\u001b[0mself\u001b[0m\u001b[0;34m.\u001b[0m\u001b[0mengine\u001b[0m\u001b[0;34m)\u001b[0m\u001b[0;34m\u001b[0m\u001b[0m\n\u001b[0m\u001b[1;32m    765\u001b[0m \u001b[0;34m\u001b[0m\u001b[0m\n\u001b[1;32m    766\u001b[0m     \u001b[0;32mdef\u001b[0m \u001b[0mclose\u001b[0m\u001b[0;34m(\u001b[0m\u001b[0mself\u001b[0m\u001b[0;34m)\u001b[0m\u001b[0;34m:\u001b[0m\u001b[0;34m\u001b[0m\u001b[0m\n",
      "\u001b[0;32m/anaconda3/lib/python3.6/site-packages/pandas/io/parsers.py\u001b[0m in \u001b[0;36m_make_engine\u001b[0;34m(self, engine)\u001b[0m\n\u001b[1;32m    983\u001b[0m     \u001b[0;32mdef\u001b[0m \u001b[0m_make_engine\u001b[0m\u001b[0;34m(\u001b[0m\u001b[0mself\u001b[0m\u001b[0;34m,\u001b[0m \u001b[0mengine\u001b[0m\u001b[0;34m=\u001b[0m\u001b[0;34m'c'\u001b[0m\u001b[0;34m)\u001b[0m\u001b[0;34m:\u001b[0m\u001b[0;34m\u001b[0m\u001b[0m\n\u001b[1;32m    984\u001b[0m         \u001b[0;32mif\u001b[0m \u001b[0mengine\u001b[0m \u001b[0;34m==\u001b[0m \u001b[0;34m'c'\u001b[0m\u001b[0;34m:\u001b[0m\u001b[0;34m\u001b[0m\u001b[0m\n\u001b[0;32m--> 985\u001b[0;31m             \u001b[0mself\u001b[0m\u001b[0;34m.\u001b[0m\u001b[0m_engine\u001b[0m \u001b[0;34m=\u001b[0m \u001b[0mCParserWrapper\u001b[0m\u001b[0;34m(\u001b[0m\u001b[0mself\u001b[0m\u001b[0;34m.\u001b[0m\u001b[0mf\u001b[0m\u001b[0;34m,\u001b[0m \u001b[0;34m**\u001b[0m\u001b[0mself\u001b[0m\u001b[0;34m.\u001b[0m\u001b[0moptions\u001b[0m\u001b[0;34m)\u001b[0m\u001b[0;34m\u001b[0m\u001b[0m\n\u001b[0m\u001b[1;32m    986\u001b[0m         \u001b[0;32melse\u001b[0m\u001b[0;34m:\u001b[0m\u001b[0;34m\u001b[0m\u001b[0m\n\u001b[1;32m    987\u001b[0m             \u001b[0;32mif\u001b[0m \u001b[0mengine\u001b[0m \u001b[0;34m==\u001b[0m \u001b[0;34m'python'\u001b[0m\u001b[0;34m:\u001b[0m\u001b[0;34m\u001b[0m\u001b[0m\n",
      "\u001b[0;32m/anaconda3/lib/python3.6/site-packages/pandas/io/parsers.py\u001b[0m in \u001b[0;36m__init__\u001b[0;34m(self, src, **kwds)\u001b[0m\n\u001b[1;32m   1603\u001b[0m         \u001b[0mkwds\u001b[0m\u001b[0;34m[\u001b[0m\u001b[0;34m'allow_leading_cols'\u001b[0m\u001b[0;34m]\u001b[0m \u001b[0;34m=\u001b[0m \u001b[0mself\u001b[0m\u001b[0;34m.\u001b[0m\u001b[0mindex_col\u001b[0m \u001b[0;32mis\u001b[0m \u001b[0;32mnot\u001b[0m \u001b[0;32mFalse\u001b[0m\u001b[0;34m\u001b[0m\u001b[0m\n\u001b[1;32m   1604\u001b[0m \u001b[0;34m\u001b[0m\u001b[0m\n\u001b[0;32m-> 1605\u001b[0;31m         \u001b[0mself\u001b[0m\u001b[0;34m.\u001b[0m\u001b[0m_reader\u001b[0m \u001b[0;34m=\u001b[0m \u001b[0mparsers\u001b[0m\u001b[0;34m.\u001b[0m\u001b[0mTextReader\u001b[0m\u001b[0;34m(\u001b[0m\u001b[0msrc\u001b[0m\u001b[0;34m,\u001b[0m \u001b[0;34m**\u001b[0m\u001b[0mkwds\u001b[0m\u001b[0;34m)\u001b[0m\u001b[0;34m\u001b[0m\u001b[0m\n\u001b[0m\u001b[1;32m   1606\u001b[0m \u001b[0;34m\u001b[0m\u001b[0m\n\u001b[1;32m   1607\u001b[0m         \u001b[0;31m# XXX\u001b[0m\u001b[0;34m\u001b[0m\u001b[0;34m\u001b[0m\u001b[0m\n",
      "\u001b[0;32mpandas/_libs/parsers.pyx\u001b[0m in \u001b[0;36mpandas._libs.parsers.TextReader.__cinit__ (pandas/_libs/parsers.c:4209)\u001b[0;34m()\u001b[0m\n",
      "\u001b[0;32mpandas/_libs/parsers.pyx\u001b[0m in \u001b[0;36mpandas._libs.parsers.TextReader._setup_parser_source (pandas/_libs/parsers.c:8873)\u001b[0;34m()\u001b[0m\n",
      "\u001b[0;31mFileNotFoundError\u001b[0m: File b'/data/raw_data.csv' does not exist"
     ]
    }
   ],
   "source": [
    "### read in raw data\n",
    "\n",
    "d = pd.read_csv('/data/raw_data.csv')\n",
    "d = d.dropna(how='any')\n",
    "d.head()"
   ]
  },
  {
   "cell_type": "code",
   "execution_count": 65,
   "metadata": {},
   "outputs": [
    {
     "data": {
      "text/plain": [
       "(206, 9)"
      ]
     },
     "execution_count": 65,
     "metadata": {},
     "output_type": "execute_result"
    }
   ],
   "source": [
    "d.shape"
   ]
  },
  {
   "cell_type": "code",
   "execution_count": 66,
   "metadata": {},
   "outputs": [
    {
     "data": {
      "text/plain": [
       "count     77.000000\n",
       "mean      12.051948\n",
       "std       31.195013\n",
       "min       -4.000000\n",
       "25%        3.000000\n",
       "50%        7.000000\n",
       "75%       12.000000\n",
       "max      273.000000\n",
       "Name: amount_used, dtype: float64"
      ]
     },
     "execution_count": 66,
     "metadata": {},
     "output_type": "execute_result"
    }
   ],
   "source": [
    "### get summary stats for treatment useage\n",
    "d[d['Treatment'] == 1]['amount_used'].describe()"
   ]
  },
  {
   "cell_type": "code",
   "execution_count": 67,
   "metadata": {},
   "outputs": [
    {
     "data": {
      "text/plain": [
       "count    129.000000\n",
       "mean       7.736434\n",
       "std       27.301419\n",
       "min     -158.000000\n",
       "25%        1.000000\n",
       "50%        5.000000\n",
       "75%        9.000000\n",
       "max      203.000000\n",
       "Name: amount_used, dtype: float64"
      ]
     },
     "execution_count": 67,
     "metadata": {},
     "output_type": "execute_result"
    }
   ],
   "source": [
    "### get summary stats for treament useage\n",
    "d[d['Treatment'] == 0]['amount_used'].describe()"
   ]
  },
  {
   "cell_type": "code",
   "execution_count": 68,
   "metadata": {},
   "outputs": [
    {
     "data": {
      "text/plain": [
       "4.3155139434209202"
      ]
     },
     "execution_count": 68,
     "metadata": {},
     "output_type": "execute_result"
    }
   ],
   "source": [
    "### find difference in means for ctrl/treatment\n",
    "diff_mean = (d[d['Treatment'] == 1]['amount_used'].describe()['mean'] - d[d['Treatment'] == 0]['amount_used'].describe()['mean'])\n",
    "diff_mean"
   ]
  },
  {
   "cell_type": "code",
   "execution_count": 70,
   "metadata": {},
   "outputs": [
    {
     "data": {
      "text/html": [
       "<div>\n",
       "<style>\n",
       "    .dataframe thead tr:only-child th {\n",
       "        text-align: right;\n",
       "    }\n",
       "\n",
       "    .dataframe thead th {\n",
       "        text-align: left;\n",
       "    }\n",
       "\n",
       "    .dataframe tbody tr th {\n",
       "        vertical-align: top;\n",
       "    }\n",
       "</style>\n",
       "<table border=\"1\" class=\"dataframe\">\n",
       "  <thead>\n",
       "    <tr style=\"text-align: right;\">\n",
       "      <th></th>\n",
       "      <th>Date</th>\n",
       "      <th>Location</th>\n",
       "      <th>Treatment</th>\n",
       "      <th>as_measured</th>\n",
       "      <th>amount_used</th>\n",
       "      <th>collector</th>\n",
       "      <th>google_second_wave_trend</th>\n",
       "      <th>google_drug_resistant_trend</th>\n",
       "      <th>is_suspicious</th>\n",
       "      <th>numeric_location</th>\n",
       "    </tr>\n",
       "  </thead>\n",
       "  <tbody>\n",
       "    <tr>\n",
       "      <th>0</th>\n",
       "      <td>3/10/18</td>\n",
       "      <td>eca- front desk</td>\n",
       "      <td>0.0</td>\n",
       "      <td>1594</td>\n",
       "      <td>0.0</td>\n",
       "      <td>Nikki</td>\n",
       "      <td>0.0</td>\n",
       "      <td>0.0</td>\n",
       "      <td>0.0</td>\n",
       "      <td>0</td>\n",
       "    </tr>\n",
       "    <tr>\n",
       "      <th>1</th>\n",
       "      <td>3/11/18</td>\n",
       "      <td>eca- front desk</td>\n",
       "      <td>0.0</td>\n",
       "      <td>1583</td>\n",
       "      <td>11.0</td>\n",
       "      <td>Nikki</td>\n",
       "      <td>0.0</td>\n",
       "      <td>0.0</td>\n",
       "      <td>0.0</td>\n",
       "      <td>0</td>\n",
       "    </tr>\n",
       "    <tr>\n",
       "      <th>2</th>\n",
       "      <td>3/12/18</td>\n",
       "      <td>eca- front desk</td>\n",
       "      <td>0.0</td>\n",
       "      <td>1573</td>\n",
       "      <td>10.0</td>\n",
       "      <td>Nikki</td>\n",
       "      <td>0.0</td>\n",
       "      <td>0.0</td>\n",
       "      <td>0.0</td>\n",
       "      <td>0</td>\n",
       "    </tr>\n",
       "    <tr>\n",
       "      <th>3</th>\n",
       "      <td>3/13/18</td>\n",
       "      <td>eca- front desk</td>\n",
       "      <td>0.0</td>\n",
       "      <td>1566</td>\n",
       "      <td>7.0</td>\n",
       "      <td>Nikki</td>\n",
       "      <td>0.0</td>\n",
       "      <td>48.0</td>\n",
       "      <td>0.0</td>\n",
       "      <td>0</td>\n",
       "    </tr>\n",
       "    <tr>\n",
       "      <th>4</th>\n",
       "      <td>3/14/18</td>\n",
       "      <td>eca- front desk</td>\n",
       "      <td>0.0</td>\n",
       "      <td>1549</td>\n",
       "      <td>17.0</td>\n",
       "      <td>Nikki</td>\n",
       "      <td>0.0</td>\n",
       "      <td>0.0</td>\n",
       "      <td>0.0</td>\n",
       "      <td>0</td>\n",
       "    </tr>\n",
       "  </tbody>\n",
       "</table>\n",
       "</div>"
      ],
      "text/plain": [
       "      Date         Location  Treatment as_measured  amount_used collector  \\\n",
       "0  3/10/18  eca- front desk        0.0        1594          0.0     Nikki   \n",
       "1  3/11/18  eca- front desk        0.0        1583         11.0     Nikki   \n",
       "2  3/12/18  eca- front desk        0.0        1573         10.0     Nikki   \n",
       "3  3/13/18  eca- front desk        0.0        1566          7.0     Nikki   \n",
       "4  3/14/18  eca- front desk        0.0        1549         17.0     Nikki   \n",
       "\n",
       "   google_second_wave_trend  google_drug_resistant_trend  is_suspicious  \\\n",
       "0                       0.0                          0.0            0.0   \n",
       "1                       0.0                          0.0            0.0   \n",
       "2                       0.0                          0.0            0.0   \n",
       "3                       0.0                         48.0            0.0   \n",
       "4                       0.0                          0.0            0.0   \n",
       "\n",
       "   numeric_location  \n",
       "0                 0  \n",
       "1                 0  \n",
       "2                 0  \n",
       "3                 0  \n",
       "4                 0  "
      ]
     },
     "execution_count": 70,
     "metadata": {},
     "output_type": "execute_result"
    }
   ],
   "source": [
    "### create numeric mapping for locations\n",
    "unique_locs = d.Location.value_counts().index.tolist()\n",
    "loc_map = [x for x in range(len(unique_locs))]\n",
    "loc_set = dict(zip(unique_locs, loc_map))\n",
    "#loc_set\n",
    "\n",
    "d['numeric_location'] = d['Location'].map(lambda x: loc_set[x] if x in loc_set.keys() else -1)\n",
    "d.head()\n",
    "#d['Location'].value_counts().sum()"
   ]
  },
  {
   "cell_type": "code",
   "execution_count": 82,
   "metadata": {},
   "outputs": [
    {
     "data": {
      "text/plain": [
       "{'Avalon - Gym': 9,\n",
       " 'Avalon - Lobby': 10,\n",
       " 'concur - 10th floor': 7,\n",
       " 'concur - 16th floor': 2,\n",
       " 'concur - 3rd floor': 5,\n",
       " 'concur - 5th floor': 8,\n",
       " 'concur -12th floor': 6,\n",
       " 'eca- front desk': 0,\n",
       " 'ped - well': 3,\n",
       " 'ped- not well': 4,\n",
       " 'yarn shop': 1}"
      ]
     },
     "execution_count": 82,
     "metadata": {},
     "output_type": "execute_result"
    }
   ],
   "source": [
    "loc_set"
   ]
  },
  {
   "cell_type": "code",
   "execution_count": 83,
   "metadata": {},
   "outputs": [
    {
     "data": {
      "text/html": [
       "<div>\n",
       "<style>\n",
       "    .dataframe thead tr:only-child th {\n",
       "        text-align: right;\n",
       "    }\n",
       "\n",
       "    .dataframe thead th {\n",
       "        text-align: left;\n",
       "    }\n",
       "\n",
       "    .dataframe tbody tr th {\n",
       "        vertical-align: top;\n",
       "    }\n",
       "</style>\n",
       "<table border=\"1\" class=\"dataframe\">\n",
       "  <thead>\n",
       "    <tr style=\"text-align: right;\">\n",
       "      <th></th>\n",
       "      <th>Date</th>\n",
       "      <th>Location</th>\n",
       "      <th>Treatment</th>\n",
       "      <th>as_measured</th>\n",
       "      <th>amount_used</th>\n",
       "      <th>collector</th>\n",
       "      <th>google_second_wave_trend</th>\n",
       "      <th>google_drug_resistant_trend</th>\n",
       "      <th>is_suspicious</th>\n",
       "      <th>numeric_location</th>\n",
       "    </tr>\n",
       "  </thead>\n",
       "  <tbody>\n",
       "    <tr>\n",
       "      <th>212</th>\n",
       "      <td>4/2/18</td>\n",
       "      <td>Avalon - Gym</td>\n",
       "      <td>1.0</td>\n",
       "      <td>1799</td>\n",
       "      <td>7.0</td>\n",
       "      <td>Carmen</td>\n",
       "      <td>46.0</td>\n",
       "      <td>0.0</td>\n",
       "      <td>0.0</td>\n",
       "      <td>9</td>\n",
       "    </tr>\n",
       "    <tr>\n",
       "      <th>213</th>\n",
       "      <td>4/3/18</td>\n",
       "      <td>Avalon - Gym</td>\n",
       "      <td>1.0</td>\n",
       "      <td>1787</td>\n",
       "      <td>12.0</td>\n",
       "      <td>Carmen</td>\n",
       "      <td>0.0</td>\n",
       "      <td>0.0</td>\n",
       "      <td>0.0</td>\n",
       "      <td>9</td>\n",
       "    </tr>\n",
       "    <tr>\n",
       "      <th>214</th>\n",
       "      <td>4/4/18</td>\n",
       "      <td>Avalon - Gym</td>\n",
       "      <td>1.0</td>\n",
       "      <td>1776</td>\n",
       "      <td>11.0</td>\n",
       "      <td>Carmen</td>\n",
       "      <td>14.0</td>\n",
       "      <td>49.0</td>\n",
       "      <td>0.0</td>\n",
       "      <td>9</td>\n",
       "    </tr>\n",
       "    <tr>\n",
       "      <th>215</th>\n",
       "      <td>4/5/18</td>\n",
       "      <td>Avalon - Gym</td>\n",
       "      <td>1.0</td>\n",
       "      <td>1767</td>\n",
       "      <td>9.0</td>\n",
       "      <td>Carmen</td>\n",
       "      <td>22.0</td>\n",
       "      <td>40.0</td>\n",
       "      <td>0.0</td>\n",
       "      <td>9</td>\n",
       "    </tr>\n",
       "    <tr>\n",
       "      <th>216</th>\n",
       "      <td>4/6/18</td>\n",
       "      <td>Avalon - Gym</td>\n",
       "      <td>1.0</td>\n",
       "      <td>1763</td>\n",
       "      <td>4.0</td>\n",
       "      <td>Carmen</td>\n",
       "      <td>11.0</td>\n",
       "      <td>50.0</td>\n",
       "      <td>0.0</td>\n",
       "      <td>9</td>\n",
       "    </tr>\n",
       "  </tbody>\n",
       "</table>\n",
       "</div>"
      ],
      "text/plain": [
       "       Date      Location  Treatment as_measured  amount_used collector  \\\n",
       "212  4/2/18  Avalon - Gym        1.0        1799          7.0    Carmen   \n",
       "213  4/3/18  Avalon - Gym        1.0        1787         12.0    Carmen   \n",
       "214  4/4/18  Avalon - Gym        1.0        1776         11.0    Carmen   \n",
       "215  4/5/18  Avalon - Gym        1.0        1767          9.0    Carmen   \n",
       "216  4/6/18  Avalon - Gym        1.0        1763          4.0    Carmen   \n",
       "\n",
       "     google_second_wave_trend  google_drug_resistant_trend  is_suspicious  \\\n",
       "212                      46.0                          0.0            0.0   \n",
       "213                       0.0                          0.0            0.0   \n",
       "214                      14.0                         49.0            0.0   \n",
       "215                      22.0                         40.0            0.0   \n",
       "216                      11.0                         50.0            0.0   \n",
       "\n",
       "     numeric_location  \n",
       "212                 9  \n",
       "213                 9  \n",
       "214                 9  \n",
       "215                 9  \n",
       "216                 9  "
      ]
     },
     "execution_count": 83,
     "metadata": {},
     "output_type": "execute_result"
    }
   ],
   "source": [
    "d.tail()"
   ]
  },
  {
   "cell_type": "code",
   "execution_count": 72,
   "metadata": {},
   "outputs": [
    {
     "data": {
      "text/plain": [
       "0     28\n",
       "1     26\n",
       "5     20\n",
       "4     20\n",
       "3     20\n",
       "2     20\n",
       "7     19\n",
       "6     19\n",
       "8     16\n",
       "9     15\n",
       "10     3\n",
       "Name: numeric_location, dtype: int64"
      ]
     },
     "execution_count": 72,
     "metadata": {},
     "output_type": "execute_result"
    }
   ],
   "source": [
    "d['numeric_location'].value_counts()"
   ]
  },
  {
   "cell_type": "code",
   "execution_count": 85,
   "metadata": {},
   "outputs": [
    {
     "data": {
      "text/html": [
       "<table class=\"simpletable\">\n",
       "<caption>OLS Regression Results</caption>\n",
       "<tr>\n",
       "  <th>Dep. Variable:</th>       <td>amount_used</td>   <th>  R-squared:         </th> <td>   0.005</td>\n",
       "</tr>\n",
       "<tr>\n",
       "  <th>Model:</th>                   <td>OLS</td>       <th>  Adj. R-squared:    </th> <td>   0.000</td>\n",
       "</tr>\n",
       "<tr>\n",
       "  <th>Method:</th>             <td>Least Squares</td>  <th>  F-statistic:       </th> <td>   1.082</td>\n",
       "</tr>\n",
       "<tr>\n",
       "  <th>Date:</th>             <td>Thu, 12 Apr 2018</td> <th>  Prob (F-statistic):</th>  <td> 0.300</td> \n",
       "</tr>\n",
       "<tr>\n",
       "  <th>Time:</th>                 <td>18:14:47</td>     <th>  Log-Likelihood:    </th> <td> -983.63</td>\n",
       "</tr>\n",
       "<tr>\n",
       "  <th>No. Observations:</th>      <td>   206</td>      <th>  AIC:               </th> <td>   1971.</td>\n",
       "</tr>\n",
       "<tr>\n",
       "  <th>Df Residuals:</th>          <td>   204</td>      <th>  BIC:               </th> <td>   1978.</td>\n",
       "</tr>\n",
       "<tr>\n",
       "  <th>Df Model:</th>              <td>     1</td>      <th>                     </th>     <td> </td>   \n",
       "</tr>\n",
       "<tr>\n",
       "  <th>Covariance Type:</th>      <td>nonrobust</td>    <th>                     </th>     <td> </td>   \n",
       "</tr>\n",
       "</table>\n",
       "<table class=\"simpletable\">\n",
       "<tr>\n",
       "      <td></td>         <th>coef</th>     <th>std err</th>      <th>z</th>      <th>P>|z|</th>  <th>[0.025</th>    <th>0.975]</th>  \n",
       "</tr>\n",
       "<tr>\n",
       "  <th>Intercept</th> <td>    7.7364</td> <td>    2.537</td> <td>    3.050</td> <td> 0.002</td> <td>    2.764</td> <td>   12.709</td>\n",
       "</tr>\n",
       "<tr>\n",
       "  <th>Treatment</th> <td>    4.3155</td> <td>    4.149</td> <td>    1.040</td> <td> 0.298</td> <td>   -3.817</td> <td>   12.448</td>\n",
       "</tr>\n",
       "</table>\n",
       "<table class=\"simpletable\">\n",
       "<tr>\n",
       "  <th>Omnibus:</th>       <td>255.150</td> <th>  Durbin-Watson:     </th> <td>   2.029</td> \n",
       "</tr>\n",
       "<tr>\n",
       "  <th>Prob(Omnibus):</th> <td> 0.000</td>  <th>  Jarque-Bera (JB):  </th> <td>21728.736</td>\n",
       "</tr>\n",
       "<tr>\n",
       "  <th>Skew:</th>          <td> 4.912</td>  <th>  Prob(JB):          </th> <td>    0.00</td> \n",
       "</tr>\n",
       "<tr>\n",
       "  <th>Kurtosis:</th>      <td>52.346</td>  <th>  Cond. No.          </th> <td>    2.43</td> \n",
       "</tr>\n",
       "</table>"
      ],
      "text/plain": [
       "<class 'statsmodels.iolib.summary.Summary'>\n",
       "\"\"\"\n",
       "                            OLS Regression Results                            \n",
       "==============================================================================\n",
       "Dep. Variable:            amount_used   R-squared:                       0.005\n",
       "Model:                            OLS   Adj. R-squared:                  0.000\n",
       "Method:                 Least Squares   F-statistic:                     1.082\n",
       "Date:                Thu, 12 Apr 2018   Prob (F-statistic):              0.300\n",
       "Time:                        18:14:47   Log-Likelihood:                -983.63\n",
       "No. Observations:                 206   AIC:                             1971.\n",
       "Df Residuals:                     204   BIC:                             1978.\n",
       "Df Model:                           1                                         \n",
       "Covariance Type:            nonrobust                                         \n",
       "==============================================================================\n",
       "                 coef    std err          z      P>|z|      [0.025      0.975]\n",
       "------------------------------------------------------------------------------\n",
       "Intercept      7.7364      2.537      3.050      0.002       2.764      12.709\n",
       "Treatment      4.3155      4.149      1.040      0.298      -3.817      12.448\n",
       "==============================================================================\n",
       "Omnibus:                      255.150   Durbin-Watson:                   2.029\n",
       "Prob(Omnibus):                  0.000   Jarque-Bera (JB):            21728.736\n",
       "Skew:                           4.912   Prob(JB):                         0.00\n",
       "Kurtosis:                      52.346   Cond. No.                         2.43\n",
       "==============================================================================\n",
       "\n",
       "Warnings:\n",
       "[1] Standard Errors assume that the covariance matrix of the errors is correctly specified.\n",
       "\"\"\""
      ]
     },
     "execution_count": 85,
     "metadata": {},
     "output_type": "execute_result"
    }
   ],
   "source": [
    "### without clustering, without ignoring outlyers, just straight OLS\n",
    "\n",
    "\n",
    "ols_revised = sm.ols(formula=\"amount_used ~ Treatment\", data=d).fit(\n",
    "                                                         use_t=True)\n",
    "ols_revised.summary()"
   ]
  },
  {
   "cell_type": "code",
   "execution_count": 75,
   "metadata": {},
   "outputs": [
    {
     "data": {
      "text/html": [
       "<table class=\"simpletable\">\n",
       "<caption>OLS Regression Results</caption>\n",
       "<tr>\n",
       "  <th>Dep. Variable:</th>       <td>amount_used</td>   <th>  R-squared:         </th> <td>   0.005</td>\n",
       "</tr>\n",
       "<tr>\n",
       "  <th>Model:</th>                   <td>OLS</td>       <th>  Adj. R-squared:    </th> <td>   0.000</td>\n",
       "</tr>\n",
       "<tr>\n",
       "  <th>Method:</th>             <td>Least Squares</td>  <th>  F-statistic:       </th> <td>  0.8586</td>\n",
       "</tr>\n",
       "<tr>\n",
       "  <th>Date:</th>             <td>Thu, 12 Apr 2018</td> <th>  Prob (F-statistic):</th>  <td> 0.376</td> \n",
       "</tr>\n",
       "<tr>\n",
       "  <th>Time:</th>                 <td>17:48:07</td>     <th>  Log-Likelihood:    </th> <td> -983.63</td>\n",
       "</tr>\n",
       "<tr>\n",
       "  <th>No. Observations:</th>      <td>   206</td>      <th>  AIC:               </th> <td>   1971.</td>\n",
       "</tr>\n",
       "<tr>\n",
       "  <th>Df Residuals:</th>          <td>   204</td>      <th>  BIC:               </th> <td>   1978.</td>\n",
       "</tr>\n",
       "<tr>\n",
       "  <th>Df Model:</th>              <td>     1</td>      <th>                     </th>     <td> </td>   \n",
       "</tr>\n",
       "<tr>\n",
       "  <th>Covariance Type:</th>       <td>cluster</td>     <th>                     </th>     <td> </td>   \n",
       "</tr>\n",
       "</table>\n",
       "<table class=\"simpletable\">\n",
       "<tr>\n",
       "      <td></td>         <th>coef</th>     <th>std err</th>      <th>t</th>      <th>P>|t|</th>  <th>[0.025</th>    <th>0.975]</th>  \n",
       "</tr>\n",
       "<tr>\n",
       "  <th>Intercept</th> <td>    7.7364</td> <td>    3.153</td> <td>    2.454</td> <td> 0.034</td> <td>    0.712</td> <td>   14.761</td>\n",
       "</tr>\n",
       "<tr>\n",
       "  <th>Treatment</th> <td>    4.3155</td> <td>    4.657</td> <td>    0.927</td> <td> 0.376</td> <td>   -6.061</td> <td>   14.692</td>\n",
       "</tr>\n",
       "</table>\n",
       "<table class=\"simpletable\">\n",
       "<tr>\n",
       "  <th>Omnibus:</th>       <td>255.150</td> <th>  Durbin-Watson:     </th> <td>   2.029</td> \n",
       "</tr>\n",
       "<tr>\n",
       "  <th>Prob(Omnibus):</th> <td> 0.000</td>  <th>  Jarque-Bera (JB):  </th> <td>21728.736</td>\n",
       "</tr>\n",
       "<tr>\n",
       "  <th>Skew:</th>          <td> 4.912</td>  <th>  Prob(JB):          </th> <td>    0.00</td> \n",
       "</tr>\n",
       "<tr>\n",
       "  <th>Kurtosis:</th>      <td>52.346</td>  <th>  Cond. No.          </th> <td>    2.43</td> \n",
       "</tr>\n",
       "</table>"
      ],
      "text/plain": [
       "<class 'statsmodels.iolib.summary.Summary'>\n",
       "\"\"\"\n",
       "                            OLS Regression Results                            \n",
       "==============================================================================\n",
       "Dep. Variable:            amount_used   R-squared:                       0.005\n",
       "Model:                            OLS   Adj. R-squared:                  0.000\n",
       "Method:                 Least Squares   F-statistic:                    0.8586\n",
       "Date:                Thu, 12 Apr 2018   Prob (F-statistic):              0.376\n",
       "Time:                        17:48:07   Log-Likelihood:                -983.63\n",
       "No. Observations:                 206   AIC:                             1971.\n",
       "Df Residuals:                     204   BIC:                             1978.\n",
       "Df Model:                           1                                         \n",
       "Covariance Type:              cluster                                         \n",
       "==============================================================================\n",
       "                 coef    std err          t      P>|t|      [0.025      0.975]\n",
       "------------------------------------------------------------------------------\n",
       "Intercept      7.7364      3.153      2.454      0.034       0.712      14.761\n",
       "Treatment      4.3155      4.657      0.927      0.376      -6.061      14.692\n",
       "==============================================================================\n",
       "Omnibus:                      255.150   Durbin-Watson:                   2.029\n",
       "Prob(Omnibus):                  0.000   Jarque-Bera (JB):            21728.736\n",
       "Skew:                           4.912   Prob(JB):                         0.00\n",
       "Kurtosis:                      52.346   Cond. No.                         2.43\n",
       "==============================================================================\n",
       "\n",
       "Warnings:\n",
       "[1] Standard Errors are robust tocluster correlation (cluster)\n",
       "\"\"\""
      ]
     },
     "execution_count": 75,
     "metadata": {},
     "output_type": "execute_result"
    }
   ],
   "source": [
    "### run a quick linear regression with clustering on location\n",
    "\n",
    "ols_revised = sm.ols(formula=\"amount_used ~ Treatment\", data=d).fit(\n",
    "                                                        cov_type='cluster',\n",
    "                                                        cov_kwds={'groups': d['numeric_location']},\n",
    "                                                         use_t=True)\n",
    "ols_revised.summary()"
   ]
  },
  {
   "cell_type": "code",
   "execution_count": 76,
   "metadata": {
    "collapsed": true
   },
   "outputs": [],
   "source": [
    "### We can see from the results that the pvalue for treatment is not below the Z test"
   ]
  },
  {
   "cell_type": "code",
   "execution_count": 78,
   "metadata": {},
   "outputs": [
    {
     "data": {
      "text/html": [
       "<table class=\"simpletable\">\n",
       "<caption>OLS Regression Results</caption>\n",
       "<tr>\n",
       "  <th>Dep. Variable:</th>       <td>amount_used</td>   <th>  R-squared:         </th> <td>   0.007</td>\n",
       "</tr>\n",
       "<tr>\n",
       "  <th>Model:</th>                   <td>OLS</td>       <th>  Adj. R-squared:    </th> <td>  -0.008</td>\n",
       "</tr>\n",
       "<tr>\n",
       "  <th>Method:</th>             <td>Least Squares</td>  <th>  F-statistic:       </th> <td>  0.8464</td>\n",
       "</tr>\n",
       "<tr>\n",
       "  <th>Date:</th>             <td>Thu, 12 Apr 2018</td> <th>  Prob (F-statistic):</th>  <td> 0.499</td> \n",
       "</tr>\n",
       "<tr>\n",
       "  <th>Time:</th>                 <td>17:50:15</td>     <th>  Log-Likelihood:    </th> <td> -983.45</td>\n",
       "</tr>\n",
       "<tr>\n",
       "  <th>No. Observations:</th>      <td>   206</td>      <th>  AIC:               </th> <td>   1975.</td>\n",
       "</tr>\n",
       "<tr>\n",
       "  <th>Df Residuals:</th>          <td>   202</td>      <th>  BIC:               </th> <td>   1988.</td>\n",
       "</tr>\n",
       "<tr>\n",
       "  <th>Df Model:</th>              <td>     3</td>      <th>                     </th>     <td> </td>   \n",
       "</tr>\n",
       "<tr>\n",
       "  <th>Covariance Type:</th>       <td>cluster</td>     <th>                     </th>     <td> </td>   \n",
       "</tr>\n",
       "</table>\n",
       "<table class=\"simpletable\">\n",
       "<tr>\n",
       "                   <td></td>                     <th>coef</th>     <th>std err</th>      <th>t</th>      <th>P>|t|</th>  <th>[0.025</th>    <th>0.975]</th>  \n",
       "</tr>\n",
       "<tr>\n",
       "  <th>Intercept</th>                          <td>    6.9850</td> <td>    2.204</td> <td>    3.170</td> <td> 0.010</td> <td>    2.075</td> <td>   11.895</td>\n",
       "</tr>\n",
       "<tr>\n",
       "  <th>Treatment</th>                          <td>    4.6082</td> <td>    3.066</td> <td>    1.503</td> <td> 0.164</td> <td>   -2.222</td> <td>   11.439</td>\n",
       "</tr>\n",
       "<tr>\n",
       "  <th>google_second_wave_trend</th>           <td>    0.0493</td> <td>    0.132</td> <td>    0.372</td> <td> 0.718</td> <td>   -0.246</td> <td>    0.345</td>\n",
       "</tr>\n",
       "<tr>\n",
       "  <th>Treatment:google_second_wave_trend</th> <td>   -0.0336</td> <td>    0.157</td> <td>   -0.214</td> <td> 0.834</td> <td>   -0.383</td> <td>    0.316</td>\n",
       "</tr>\n",
       "</table>\n",
       "<table class=\"simpletable\">\n",
       "<tr>\n",
       "  <th>Omnibus:</th>       <td>251.971</td> <th>  Durbin-Watson:     </th> <td>   2.032</td> \n",
       "</tr>\n",
       "<tr>\n",
       "  <th>Prob(Omnibus):</th> <td> 0.000</td>  <th>  Jarque-Bera (JB):  </th> <td>21274.093</td>\n",
       "</tr>\n",
       "<tr>\n",
       "  <th>Skew:</th>          <td> 4.803</td>  <th>  Prob(JB):          </th> <td>    0.00</td> \n",
       "</tr>\n",
       "<tr>\n",
       "  <th>Kurtosis:</th>      <td>51.849</td>  <th>  Cond. No.          </th> <td>    121.</td> \n",
       "</tr>\n",
       "</table>"
      ],
      "text/plain": [
       "<class 'statsmodels.iolib.summary.Summary'>\n",
       "\"\"\"\n",
       "                            OLS Regression Results                            \n",
       "==============================================================================\n",
       "Dep. Variable:            amount_used   R-squared:                       0.007\n",
       "Model:                            OLS   Adj. R-squared:                 -0.008\n",
       "Method:                 Least Squares   F-statistic:                    0.8464\n",
       "Date:                Thu, 12 Apr 2018   Prob (F-statistic):              0.499\n",
       "Time:                        17:50:15   Log-Likelihood:                -983.45\n",
       "No. Observations:                 206   AIC:                             1975.\n",
       "Df Residuals:                     202   BIC:                             1988.\n",
       "Df Model:                           3                                         \n",
       "Covariance Type:              cluster                                         \n",
       "======================================================================================================\n",
       "                                         coef    std err          t      P>|t|      [0.025      0.975]\n",
       "------------------------------------------------------------------------------------------------------\n",
       "Intercept                              6.9850      2.204      3.170      0.010       2.075      11.895\n",
       "Treatment                              4.6082      3.066      1.503      0.164      -2.222      11.439\n",
       "google_second_wave_trend               0.0493      0.132      0.372      0.718      -0.246       0.345\n",
       "Treatment:google_second_wave_trend    -0.0336      0.157     -0.214      0.834      -0.383       0.316\n",
       "==============================================================================\n",
       "Omnibus:                      251.971   Durbin-Watson:                   2.032\n",
       "Prob(Omnibus):                  0.000   Jarque-Bera (JB):            21274.093\n",
       "Skew:                           4.803   Prob(JB):                         0.00\n",
       "Kurtosis:                      51.849   Cond. No.                         121.\n",
       "==============================================================================\n",
       "\n",
       "Warnings:\n",
       "[1] Standard Errors are robust tocluster correlation (cluster)\n",
       "\"\"\""
      ]
     },
     "execution_count": 78,
     "metadata": {},
     "output_type": "execute_result"
    }
   ],
   "source": [
    "ols_revised = sm.ols(formula=\"amount_used ~ Treatment + google_second_wave_trend + Treatment*google_second_wave_trend\",\n",
    "                                                        data=d).fit(\n",
    "                                                        cov_type='cluster',\n",
    "                                                        cov_kwds={'groups': d['numeric_location']},\n",
    "                                                         use_t=True)\n",
    "ols_revised.summary()"
   ]
  },
  {
   "cell_type": "code",
   "execution_count": null,
   "metadata": {
    "collapsed": true
   },
   "outputs": [],
   "source": [
    "###next steps:\n",
    "### add in dummies for location and then add them into the OLS formula\n"
   ]
  }
 ],
 "metadata": {
  "kernelspec": {
   "display_name": "Python 3",
   "language": "python",
   "name": "python3"
  },
  "language_info": {
   "codemirror_mode": {
    "name": "ipython",
    "version": 3
   },
   "file_extension": ".py",
   "mimetype": "text/x-python",
   "name": "python",
   "nbconvert_exporter": "python",
   "pygments_lexer": "ipython3",
   "version": "3.6.3"
  }
 },
 "nbformat": 4,
 "nbformat_minor": 2
}
